{
 "cells": [
  {
   "cell_type": "code",
   "execution_count": null,
   "id": "e3130273",
   "metadata": {},
   "outputs": [],
   "source": [
    "import pandas as pd\n",
    "import glob\n",
    "import os\n",
    "from src.experimentation import start_experimentation"
   ]
  },
  {
   "cell_type": "code",
   "execution_count": null,
   "id": "8a926de5",
   "metadata": {},
   "outputs": [],
   "source": [
    "model_identifiers = ['mlp', 'decisiontree', 'xgb', 'randomforest', 'lightgbm', 'catboost']\n",
    "\n",
    "for file in sorted(glob.glob('data/processed_100ms/Scenario*.csv')):\n",
    "    print(file)\n",
    "    \n",
    "    data = pd.read_csv(f'{file}')\n",
    "    results = start_experimentation(data, model_identifiers)\n",
    "    filename = os.path.basename(file)\n",
    "    results.to_csv(f\"results/100ms/{filename}_results.csv\", index=None)"
   ]
  }
 ],
 "metadata": {
  "kernelspec": {
   "display_name": "Python 3 (ipykernel)",
   "language": "python",
   "name": "python3"
  },
  "language_info": {
   "codemirror_mode": {
    "name": "ipython",
    "version": 3
   },
   "file_extension": ".py",
   "mimetype": "text/x-python",
   "name": "python",
   "nbconvert_exporter": "python",
   "pygments_lexer": "ipython3",
   "version": "3.11.3"
  }
 },
 "nbformat": 4,
 "nbformat_minor": 5
}
