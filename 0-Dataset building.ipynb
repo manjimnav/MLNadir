{
 "cells": [
  {
   "cell_type": "code",
   "execution_count": null,
   "id": "6cb6ca08",
   "metadata": {},
   "outputs": [],
   "source": [
    "from src.preprocessing import generate_dataset"
   ]
  },
  {
   "cell_type": "markdown",
   "id": "008a0e9e",
   "metadata": {},
   "source": [
    "# Dataset building"
   ]
  },
  {
   "cell_type": "code",
   "execution_count": null,
   "id": "40871b2d",
   "metadata": {
    "scrolled": true
   },
   "outputs": [],
   "source": [
    "folders = ['1.InerciaGeneralizada-DisparoGenerador', '3.InerciaLocalizada-DisparoGenerador'] \n",
    "data = generate_dataset(folders)\n",
    "\n",
    "data#.to_csv('data/raw/DisparoGenerador.csv')"
   ]
  },
  {
   "cell_type": "code",
   "execution_count": null,
   "id": "09c3c7f5",
   "metadata": {
    "scrolled": true
   },
   "outputs": [],
   "source": [
    "folders = ['2.InerciaGeneralizada-DisparoCarga', '4.InerciaLocalizada-DisparoCarga']\n",
    "data = generate_dataset(folders)\n",
    "\n",
    "data = data[data.target<70]\n",
    "\n",
    "data.to_csv('data/raw/DisparoCarga.csv')"
   ]
  }
 ],
 "metadata": {
  "kernelspec": {
   "display_name": "Python 3 (ipykernel)",
   "language": "python",
   "name": "python3"
  },
  "language_info": {
   "codemirror_mode": {
    "name": "ipython",
    "version": 3
   },
   "file_extension": ".py",
   "mimetype": "text/x-python",
   "name": "python",
   "nbconvert_exporter": "python",
   "pygments_lexer": "ipython3",
   "version": "3.11.3"
  }
 },
 "nbformat": 4,
 "nbformat_minor": 5
}
