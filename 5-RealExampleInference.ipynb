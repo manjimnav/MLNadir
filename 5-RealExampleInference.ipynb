{
 "cells": [
  {
   "cell_type": "code",
   "execution_count": 3,
   "id": "01ef6c94",
   "metadata": {},
   "outputs": [
    {
     "name": "stdout",
     "output_type": "stream",
     "text": [
      "1.39 ms ± 229 µs per loop (mean ± std. dev. of 10 runs, 1 loop each)\n"
     ]
    }
   ],
   "source": [
    "%%timeit -n 1 -r 10\n",
    "from joblib import load\n",
    "from sklearn.tree import DecisionTreeRegressor\n",
    "from collections import deque\n",
    "import numpy as np\n",
    "from datetime import datetime\n",
    "\n",
    "model = load('models/best_model_100ms.joblib')\n",
    "\n",
    "window_size = model.n_features_in_//3\n",
    "\n",
    "file = 'data/example/example_input.csv'\n",
    "output_file = 'data/example/outputs.csv'\n",
    "\n",
    "input_model = np.genfromtxt(file,delimiter=';') \n",
    "\n",
    "input_model = input_model.flatten('F')\n",
    "\n",
    "prediction = model.predict([input_model])[0]\n",
    "date = datetime.now().strftime('%Y-%m-%d %H:%M:%S')\n",
    "with open(output_file, 'a') as out_file:\n",
    "    out_file.write(f'{date};{prediction}\\n')"
   ]
  }
 ],
 "metadata": {
  "kernelspec": {
   "display_name": "inercia",
   "language": "python",
   "name": "python3"
  },
  "language_info": {
   "codemirror_mode": {
    "name": "ipython",
    "version": 3
   },
   "file_extension": ".py",
   "mimetype": "text/x-python",
   "name": "python",
   "nbconvert_exporter": "python",
   "pygments_lexer": "ipython3",
   "version": "3.11.3"
  },
  "toc-showcode": false
 },
 "nbformat": 4,
 "nbformat_minor": 5
}
