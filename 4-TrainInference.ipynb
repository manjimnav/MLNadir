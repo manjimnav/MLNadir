{
 "cells": [
  {
   "cell_type": "code",
   "execution_count": null,
   "id": "f695d0b2",
   "metadata": {},
   "outputs": [],
   "source": [
    "import pandas as pd\n",
    "from sklearn.tree import DecisionTreeRegressor\n",
    "from joblib import dump, load\n",
    "import numpy as np\n",
    "import matplotlib\n",
    "import matplotlib.pyplot as plt\n",
    "import pickle"
   ]
  },
  {
   "cell_type": "code",
   "execution_count": null,
   "id": "5cfd7825",
   "metadata": {},
   "outputs": [],
   "source": [
    "scenario7 = \"Scenario7_DisparoGeneradorNoFreqOversampled2x01stdLagged\"\n",
    "best_config = {'criterion':'poisson', 'max_depth': 61, 'splitter': 'random'}\n",
    "\n",
    "data = pd.read_csv(f'data/processed_100ms/{scenario7}.csv') # Read the data\n",
    "\n",
    "data = data[~data.code.str.startswith(\"1_1\")] # Remove one scenario and case (including subcases and results)\n",
    "\n",
    "input_columns = [col for col in data.columns if col not in ['target', 'code', 'interval', 'pred_time']] # Select inputs\n",
    "X = data[input_columns].values\n",
    "y = data['target'].values\n",
    "\n",
    "model = DecisionTreeRegressor()\n",
    "model.set_params(**best_config) # Train with best configuration\n",
    "model.fit(X, y)\n",
    "\n",
    "dump(model, 'models/best_model_100ms.joblib')\n",
    "filehandler = open(b\"models/best_model_100ms.pkl\",\"wb\")\n",
    "s = pickle.dump(model, filehandler)"
   ]
  },
  {
   "cell_type": "code",
   "execution_count": null,
   "id": "32e36cb6",
   "metadata": {},
   "outputs": [],
   "source": [
    "model = load('models/best_model_100ms.joblib')"
   ]
  },
  {
   "cell_type": "code",
   "execution_count": null,
   "id": "bd9ec16f",
   "metadata": {},
   "outputs": [],
   "source": [
    "scenario = 1\n",
    "case = 1\n",
    "result = 1\n",
    "\n",
    "n_preds = 5\n",
    "\n",
    "raw_data = pd.read_excel(f'data/raw/1.InerciaGeneralizada-DisparoGenerador/Scenario{scenario}Case{case}Result{result}_processed.xlsx')\n",
    "\n",
    "interval_ms = 100\n",
    "\n",
    "raw_data = raw_data.set_index('Time (s)')\n",
    "\n",
    "raw_data['target'] = raw_data['Fmin (Hz)'].min()\n",
    "raw_data['scenario'] = f'{scenario}'\n",
    "raw_data['case'] = f'{case}'\n",
    "raw_data['scenario_case_result'] = f'{scenario}_{case}_{result}'\n",
    "\n",
    "\n",
    "raw_data_1s = raw_data[raw_data.index>=1]\n",
    "\n",
    "raw_data_1s.loc[:, 'interval'] = (raw_data_1s.index-1)//(interval_ms/1000) # the intervals cover exactly 0.1 seconds\n",
    "\n",
    "input_cols = [\"AngB1_unwrapped (degrees)\", \"AngB2_unwrapped (degrees)\", \"AngB3_unwrapped (degrees)\"]\n",
    "\n",
    "true = raw_data_1s.target.values[:5]\n",
    "predictions = []\n",
    "\n",
    "input_data_values =[]\n",
    "\n",
    "dates_excel = []\n",
    "for i in range(5):\n",
    "\n",
    "    input_data = raw_data_1s.loc[raw_data_1s.interval==i][input_cols].values[-115:].flatten(\"F\")\n",
    "\n",
    "    input_data_values.append(input_data)\n",
    "\n",
    "    predictions.append(model.predict(input_data.reshape(1, -1))[0])\n",
    "    dates_excel.append(raw_data_1s.loc[raw_data_1s.interval==i].index[-1])\n",
    "\n",
    "predictions = np.array(predictions)\n",
    "input_data_values = np.array(input_data_values)\n",
    "\n",
    "matplotlib.rcParams.update({'font.size': 22})\n",
    "plt.figure(figsize=(20,5))\n",
    "plt.plot(raw_data.iloc[:-12000].index, raw_data['Fmin (Hz)'].iloc[:-12000], linewidth=2)\n",
    "plt.xlabel(\"Time (s)\")\n",
    "plt.ylabel(\"F (Hz)\")\n",
    "\n",
    "plt.scatter(dates_excel, predictions, color=\"r\")\n",
    "plt.title(f\"MAE: {round(np.abs(true-predictions).mean(), 3)}\")"
   ]
  },
  {
   "cell_type": "code",
   "execution_count": null,
   "id": "9d618fb5",
   "metadata": {},
   "outputs": [],
   "source": []
  }
 ],
 "metadata": {
  "kernelspec": {
   "display_name": "Python 3 (ipykernel)",
   "language": "python",
   "name": "python3"
  },
  "language_info": {
   "codemirror_mode": {
    "name": "ipython",
    "version": 3
   },
   "file_extension": ".py",
   "mimetype": "text/x-python",
   "name": "python",
   "nbconvert_exporter": "python",
   "pygments_lexer": "ipython3",
   "version": "3.11.3"
  }
 },
 "nbformat": 4,
 "nbformat_minor": 5
}
