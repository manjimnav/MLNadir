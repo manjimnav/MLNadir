{
 "cells": [
  {
   "cell_type": "code",
   "execution_count": null,
   "id": "77877b30",
   "metadata": {},
   "outputs": [],
   "source": [
    "import pandas as pd\n",
    "import numpy as np\n",
    "from tqdm.notebook import tqdm\n",
    "from src.preprocessing import windowing"
   ]
  },
  {
   "cell_type": "markdown",
   "id": "8c646e33",
   "metadata": {},
   "source": [
    "* A partir de los 2.5 segundos no se producen predicciones"
   ]
  },
  {
   "cell_type": "code",
   "execution_count": null,
   "id": "472da489",
   "metadata": {},
   "outputs": [],
   "source": [
    "data = pd.read_csv('data/raw/DisparoGenerador.csv')\n",
    "interval_ms = 100\n",
    "data['interval'] = (data['Time (s)']-1)// (interval_ms/1000) # the intervals cover exactly 0.25 seconds\n",
    "\n",
    "data = data[data[\"interval\"]<6].reindex()"
   ]
  },
  {
   "cell_type": "markdown",
   "id": "2fb3c9d4",
   "metadata": {},
   "source": [
    "## Scenario 1"
   ]
  },
  {
   "cell_type": "code",
   "execution_count": null,
   "id": "a999966f",
   "metadata": {},
   "outputs": [],
   "source": [
    "original_columns = ['Fmin (Hz)', 'AngB1_unwrapped (degrees)', 'AngB2_unwrapped (degrees)', 'AngB3_unwrapped (degrees)']\n",
    "\n",
    "lagged_data = windowing(data, original_columns)\n",
    "lagged_data.to_csv('data/processed_100ms/Scenario1_DisparoGeneradorLagged.csv', index=None)"
   ]
  },
  {
   "cell_type": "markdown",
   "id": "f081d46c",
   "metadata": {},
   "source": [
    "## Scenario 2"
   ]
  },
  {
   "cell_type": "code",
   "execution_count": null,
   "id": "20dad62f",
   "metadata": {},
   "outputs": [],
   "source": [
    "original_columns = ['AngB1_unwrapped (degrees)', 'AngB2_unwrapped (degrees)', 'AngB3_unwrapped (degrees)']\n",
    "\n",
    "lagged_data = windowing(data, original_columns)\n",
    "lagged_data.to_csv('data/processed_100ms/Scenario2_DisparoCargaNoFreqLagged.csv', index=None)"
   ]
  },
  {
   "cell_type": "markdown",
   "id": "f9e7620f",
   "metadata": {},
   "source": [
    "## Scenario 3"
   ]
  },
  {
   "cell_type": "code",
   "execution_count": null,
   "id": "f11977c6",
   "metadata": {},
   "outputs": [],
   "source": [
    "original_columns = ['AngB1 (degrees)', 'AngB2 (degrees)', 'AngB3 (degrees)']\n",
    "\n",
    "lagged_data = windowing(data, original_columns)\n",
    "lagged_data.to_csv('data/processed_100ms/Scenario3_DisparoCargaNoFreqNoUwrappedLagged.csv', index=None)"
   ]
  },
  {
   "cell_type": "markdown",
   "id": "4493e5e1",
   "metadata": {},
   "source": [
    "## Scenario 4"
   ]
  },
  {
   "cell_type": "code",
   "execution_count": null,
   "id": "24e14c79",
   "metadata": {},
   "outputs": [],
   "source": [
    "def windowing_doubleph(data, columns, by=['code']):\n",
    "     \n",
    "    lagged_data = pd.DataFrame()\n",
    "\n",
    "    for code, group in tqdm(data.groupby(by)):\n",
    "        \n",
    "        for interval in range(2, int(max(group.interval.tolist())+1)):\n",
    "            row = group[columns][(group.interval==interval) | (group.interval==(interval-1))]\n",
    "\n",
    "            lagged_columns = [f'{col}-{lag}' for col in columns for lag in range(len(row)-1, -1, -1)]\n",
    "            df_row = pd.DataFrame(data=[row.values.flatten('F')], columns=lagged_columns, index=[0])\n",
    "\n",
    "            df_row['code'] = code\n",
    "            df_row['interval'] = interval\n",
    "            df_row['target'] = group.iloc[0]['target']\n",
    "            df_row['pred_time'] =  group[(group.interval==interval)].iloc[-1]['Time (s)']\n",
    "\n",
    "            lagged_data = pd.concat((lagged_data, df_row))\n",
    "    return lagged_data\n",
    "\n",
    "original_columns = ['AngB1_unwrapped (degrees)', 'AngB2_unwrapped (degrees)', 'AngB3_unwrapped (degrees)']\n",
    "\n",
    "lagged_data = windowing_doubleph(data, original_columns)\n",
    "lagged_data.to_csv('data/processed_100ms/Scenario4_DisparoCargaNoFreqDoublePHLagged.csv', index=None)"
   ]
  },
  {
   "cell_type": "markdown",
   "id": "1dd8bc3e",
   "metadata": {},
   "source": [
    "## Scenario 5"
   ]
  },
  {
   "cell_type": "code",
   "execution_count": null,
   "id": "53768734",
   "metadata": {},
   "outputs": [],
   "source": [
    "scenario_2_df = pd.read_csv('data/processed_100ms/Scenario2_DisparoCargaNoFreqLagged.csv')\n",
    "features = []\n",
    "for feat_idx in range(3):\n",
    "    features.extend(scenario_2_df.columns[feat_idx*115:(feat_idx+1)*115].tolist()[::2])\n",
    "metadata = scenario_2_df.columns[-4:].tolist()\n",
    "\n",
    "scenario_2_df[[*features, *metadata]].to_csv('data/processed_100ms/Scenario5_DisparoGeneradorNoFreqHalfSampledLagged.csv', index=None)"
   ]
  },
  {
   "cell_type": "markdown",
   "id": "d7bcb87c",
   "metadata": {},
   "source": [
    "## Scenario 6"
   ]
  },
  {
   "cell_type": "code",
   "execution_count": null,
   "id": "308b9ebb",
   "metadata": {},
   "outputs": [],
   "source": [
    "def oversample(data, sigma=0.1):\n",
    "    mu = 0\n",
    "    features = data.columns[:-4].tolist()\n",
    "    data_copy = data.copy()\n",
    "    data_copy[features] += np.random.normal(mu, sigma, data[features].shape)\n",
    "    \n",
    "    return pd.concat((data, data_copy)).reset_index(drop=True)\n",
    "\n",
    "scenario_2_df = pd.read_csv('data/processed_100ms/Scenario2_DisparoCargaNoFreqLagged.csv')\n",
    "\n",
    "oversample(scenario_2_df, sigma=0.1).to_csv('data/processed_100ms/Scenario6_DisparoGeneradorNoFreqOversampled2x1Lagged.csv', index=None)"
   ]
  },
  {
   "cell_type": "markdown",
   "id": "41b53833",
   "metadata": {},
   "source": [
    "## Scenario 7"
   ]
  },
  {
   "cell_type": "code",
   "execution_count": null,
   "id": "1302e26f",
   "metadata": {},
   "outputs": [],
   "source": [
    "scenario_2_df = pd.read_csv('data/processed_100ms/Scenario2_DisparoCargaNoFreqLagged.csv')\n",
    "\n",
    "oversample(scenario_2_df, sigma=0.01).to_csv('data/processed_100ms/Scenario7_DisparoGeneradorNoFreqOversampled2x01Lagged.csv', index=None)"
   ]
  },
  {
   "cell_type": "markdown",
   "id": "05036890-d5af-4f5a-ba20-c4dab334fcb7",
   "metadata": {},
   "source": [
    "## Scenario 8, 9 & 10"
   ]
  },
  {
   "cell_type": "code",
   "execution_count": null,
   "id": "0e081846-df7f-4086-876f-2547a9203fa1",
   "metadata": {},
   "outputs": [],
   "source": [
    "scenario_2_df = pd.read_csv('data/processed_100ms/Scenario2_DisparoCargaNoFreqLagged.csv')\n",
    "\n",
    "metadata = scenario_2_df.columns[-4:].tolist()\n",
    "columns = scenario_2_df.columns[:-4]\n",
    "for ang_idx in range(1, 4):\n",
    "    features = columns[~columns.str.contains(f'AngB{ang_idx}_unwrapped')]\n",
    "    \n",
    "    scenario_2_df[[*features, *metadata]].to_csv(f'data/processed_100ms/Scenario{7+ang_idx}_DisparoGeneradorNoFreqAngB{ang_idx}RemovedLagged.csv', index=None)"
   ]
  },
  {
   "cell_type": "markdown",
   "id": "db350394",
   "metadata": {},
   "source": [
    "# Feature engineering"
   ]
  },
  {
   "cell_type": "code",
   "execution_count": null,
   "id": "e4dac8bc",
   "metadata": {},
   "outputs": [],
   "source": [
    "from tsfresh import extract_relevant_features\n",
    "from tsfresh.feature_extraction.settings import MinimalFCParameters\n",
    "\n",
    "data = pd.read_csv('data/raw/DisparoGenerador.csv')\n",
    "interval_ms = 100\n",
    "data['interval'] = (data['Time (s)']-1)// (interval_ms/1000) # the intervals cover exactly 0.25 seconds\n",
    "\n",
    "data = data[data[\"interval\"]<6].reindex()"
   ]
  },
  {
   "cell_type": "code",
   "execution_count": null,
   "id": "5239afd6",
   "metadata": {},
   "outputs": [],
   "source": [
    "data[\"id_col\"] = data[\"code\"] + \"-\"+data[\"interval\"].astype(str)\n",
    "\n",
    "selected_columns = ['Time (s)', 'id_col', 'AngB1_unwrapped (degrees)', 'AngB2_unwrapped (degrees)', 'AngB3_unwrapped (degrees)']\n",
    "\n",
    "\n",
    "tsfresh_scenario2_data = data[selected_columns]\n",
    "\n",
    "target = data[[\"id_col\", \"target\"]].drop_duplicates().set_index('id_col')[\"target\"]\n"
   ]
  },
  {
   "cell_type": "code",
   "execution_count": null,
   "id": "65dd549b",
   "metadata": {},
   "outputs": [],
   "source": [
    "extracted_features = extract_relevant_features(tsfresh_scenario2_data, target, column_id=\"id_col\", column_sort=\"Time (s)\", default_fc_parameters=MinimalFCParameters())"
   ]
  },
  {
   "cell_type": "code",
   "execution_count": null,
   "id": "8a72f5f0",
   "metadata": {},
   "outputs": [],
   "source": [
    "scenario11_data = extracted_features.reset_index()\n",
    "scenario11_data[\"code\"] = scenario11_data[\"index\"].str.split(\"-\").str[0]\n",
    "scenario11_data[\"interval\"] = scenario11_data[\"index\"].str.split(\"-\").str[1]\n",
    "scenario11_data[\"target\"] = target.values.tolist()\n",
    "\n",
    "scenario11_data = scenario11_data.drop(\"index\", axis=1)"
   ]
  },
  {
   "cell_type": "code",
   "execution_count": null,
   "id": "c1fd31bb",
   "metadata": {},
   "outputs": [],
   "source": [
    "scenario11_data.to_csv(f'data/processed_{interval_ms}ms/Scenario11_DisparoGeneradorMinumumFE.csv', index=None)"
   ]
  },
  {
   "cell_type": "code",
   "execution_count": null,
   "id": "6010bc29",
   "metadata": {},
   "outputs": [],
   "source": [
    "extracted_features = extract_relevant_features(tsfresh_scenario2_data, target, column_id=\"id_col\", column_sort=\"Time (s)\")"
   ]
  },
  {
   "cell_type": "code",
   "execution_count": null,
   "id": "4d553769",
   "metadata": {},
   "outputs": [],
   "source": [
    "scenario12_data = extracted_features.reset_index()\n",
    "scenario12_data[\"code\"] = scenario12_data[\"index\"].str.split(\"-\").str[0]\n",
    "scenario12_data[\"interval\"] = scenario12_data[\"index\"].str.split(\"-\").str[1]\n",
    "scenario12_data[\"target\"] = target.values.tolist()\n",
    "\n",
    "scenario12_data = scenario12_data.drop(\"index\", axis=1)"
   ]
  },
  {
   "cell_type": "code",
   "execution_count": null,
   "id": "b0f15d95",
   "metadata": {},
   "outputs": [],
   "source": [
    "scenario12_data.to_csv(f'data/processed_{interval_ms}ms/Scenario12_DisparoGeneradorComprehensiveFE.csv', index=None)"
   ]
  }
 ],
 "metadata": {
  "kernelspec": {
   "display_name": "Python 3 (ipykernel)",
   "language": "python",
   "name": "python3"
  },
  "language_info": {
   "codemirror_mode": {
    "name": "ipython",
    "version": 3
   },
   "file_extension": ".py",
   "mimetype": "text/x-python",
   "name": "python",
   "nbconvert_exporter": "python",
   "pygments_lexer": "ipython3",
   "version": "3.11.3"
  }
 },
 "nbformat": 4,
 "nbformat_minor": 5
}
