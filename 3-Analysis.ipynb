{
 "cells": [
  {
   "cell_type": "code",
   "execution_count": null,
   "id": "75dc0c07",
   "metadata": {},
   "outputs": [],
   "source": [
    "from src.metrics import summarize_results"
   ]
  },
  {
   "cell_type": "code",
   "execution_count": null,
   "id": "6c14a7c5",
   "metadata": {},
   "outputs": [],
   "source": [
    "grouped_metrics = summarize_results()\n",
    "grouped_metrics.set_index([\"scenario\", \"model\"])[[\"mae\", \"mse\", \"mape\"]]#.to_latex('results.tex')"
   ]
  },
  {
   "cell_type": "code",
   "execution_count": null,
   "id": "2a2de86c-2fb7-4327-9c9e-debf04c6ca21",
   "metadata": {},
   "outputs": [],
   "source": [
    "grouped_metrics[grouped_metrics.number==7].sort_values(['number', 'model']).drop('number', axis=1).set_index(['scenario', 'model']).params.values"
   ]
  }
 ],
 "metadata": {
  "kernelspec": {
   "display_name": "Python 3 (ipykernel)",
   "language": "python",
   "name": "python3"
  },
  "language_info": {
   "codemirror_mode": {
    "name": "ipython",
    "version": 3
   },
   "file_extension": ".py",
   "mimetype": "text/x-python",
   "name": "python",
   "nbconvert_exporter": "python",
   "pygments_lexer": "ipython3",
   "version": "3.11.3"
  }
 },
 "nbformat": 4,
 "nbformat_minor": 5
}
